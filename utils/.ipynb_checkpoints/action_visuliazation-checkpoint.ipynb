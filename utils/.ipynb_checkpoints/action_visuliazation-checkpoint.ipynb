{
 "cells": [
  {
   "cell_type": "code",
   "execution_count": 1,
   "metadata": {},
   "outputs": [],
   "source": [
    "import numpy as np\n",
    "import matplotlib.pyplot as plt\n",
    "import cv2\n",
    "from os import listdir\n",
    "import csv\n",
    "import sys\n",
    "path_npy='/media/sagan/Drive1/GTEA/dataset/visualization/npy/seq_30/'"
   ]
  },
  {
   "cell_type": "code",
   "execution_count": 2,
   "metadata": {},
   "outputs": [],
   "source": [
    "def softmax(mat):\n",
    "    \"\"\"Compute softmax values for each sets of scores in x.\"\"\"\n",
    "    out = []\n",
    "    for x in mat:\n",
    "        e_x = np.exp(x - np.max(x))\n",
    "        e_x = e_x / e_x.sum()\n",
    "        out.append(e_x)\n",
    "    \n",
    "    return np.asarray(out)"
   ]
  },
  {
   "cell_type": "code",
   "execution_count": 3,
   "metadata": {},
   "outputs": [],
   "source": [
    "def one_hot(label):\n",
    "    out = np.zeros((label.shape[0], 11))\n",
    "    for i in range(len(label)):\n",
    "        out[i][label[i]] = 1\n",
    "        \n",
    "    return out"
   ]
  },
  {
   "cell_type": "code",
   "execution_count": 4,
   "metadata": {},
   "outputs": [],
   "source": [
    "def vizz(mat):\n",
    "    mat = np.transpose(mat, (1,0))\n",
    "    color = []\n",
    "    for i in range(mat.shape[1]):\n",
    "        color.append(label_colors[0][:11])\n",
    "    color = np.asarray(color)\n",
    "    color = np.transpose(color, (1,0,2))\n",
    "\n",
    "    white = np.ones(color.shape) * 255\n",
    "    vector = np.subtract(white, color)\n",
    "    \n",
    "    col = []\n",
    "    for i in range(vector.shape[0]):\n",
    "        row = []\n",
    "        for j in range(vector.shape[1]):\n",
    "            row.append(color[i][j] + vector[i][j] * (1-mat[i][j]))\n",
    "        col.append(row)\n",
    "        \n",
    "    out =  np.asarray(col, dtype=np.uint8)   \n",
    "    out = cv2.resize(out, (573,100), cv2.INTER_MAX)\n",
    "    \n",
    "    return out"
   ]
  },
  {
   "cell_type": "code",
   "execution_count": 7,
   "metadata": {},
   "outputs": [
    {
     "name": "stdout",
     "output_type": "stream",
     "text": [
      "/media/sagan/Drive1/GTEA/dataset/visualization/npy/seq_30/30S4_Cheese_C1_lstm_prediction.npy\n"
     ]
    },
    {
     "ename": "UnicodeError",
     "evalue": "Unpickling a python object failed: UnicodeDecodeError('ascii', b'\\x14\\xa8\\x8a\\xbf\\xd7\\x162\\xc0\\xd9\\xdc\\xaf\\xbe\\xeb \\xa6?/(\\x8a\\xbf\\x03\\x187\\xc0\\x87\\t\\x01\\xc0N\\x9c/>\\x1cN A\\xb5\\xf3\\x07@\\xc1\\xaf\\x1d\\xc0', 1, 2, 'ordinal not in range(128)')\nYou may need to pass the encoding= option to numpy.load",
     "output_type": "error",
     "traceback": [
      "\u001b[0;31m---------------------------------------------------------------------------\u001b[0m",
      "\u001b[0;31mUnicodeDecodeError\u001b[0m                        Traceback (most recent call last)",
      "\u001b[0;32m/usr/local/lib/python3.5/dist-packages/numpy/lib/format.py\u001b[0m in \u001b[0;36mread_array\u001b[0;34m(fp, allow_pickle, pickle_kwargs)\u001b[0m\n\u001b[1;32m    639\u001b[0m         \u001b[0;32mtry\u001b[0m\u001b[0;34m:\u001b[0m\u001b[0;34m\u001b[0m\u001b[0m\n\u001b[0;32m--> 640\u001b[0;31m             \u001b[0marray\u001b[0m \u001b[0;34m=\u001b[0m \u001b[0mpickle\u001b[0m\u001b[0;34m.\u001b[0m\u001b[0mload\u001b[0m\u001b[0;34m(\u001b[0m\u001b[0mfp\u001b[0m\u001b[0;34m,\u001b[0m \u001b[0;34m**\u001b[0m\u001b[0mpickle_kwargs\u001b[0m\u001b[0;34m)\u001b[0m\u001b[0;34m\u001b[0m\u001b[0m\n\u001b[0m\u001b[1;32m    641\u001b[0m         \u001b[0;32mexcept\u001b[0m \u001b[0mUnicodeError\u001b[0m \u001b[0;32mas\u001b[0m \u001b[0merr\u001b[0m\u001b[0;34m:\u001b[0m\u001b[0;34m\u001b[0m\u001b[0m\n",
      "\u001b[0;31mUnicodeDecodeError\u001b[0m: 'ascii' codec can't decode byte 0xa8 in position 1: ordinal not in range(128)",
      "\nDuring handling of the above exception, another exception occurred:\n",
      "\u001b[0;31mUnicodeError\u001b[0m                              Traceback (most recent call last)",
      "\u001b[0;32m<ipython-input-7-871c4734bf7e>\u001b[0m in \u001b[0;36m<module>\u001b[0;34m()\u001b[0m\n\u001b[1;32m      4\u001b[0m     \u001b[0;32mif\u001b[0m \u001b[0;34m'npy'\u001b[0m \u001b[0;32min\u001b[0m \u001b[0mlabel\u001b[0m\u001b[0;34m:\u001b[0m\u001b[0;34m\u001b[0m\u001b[0m\n\u001b[1;32m      5\u001b[0m         \u001b[0mprint\u001b[0m \u001b[0;34m(\u001b[0m\u001b[0mpath_npy\u001b[0m\u001b[0;34m+\u001b[0m\u001b[0mlabel\u001b[0m\u001b[0;34m)\u001b[0m\u001b[0;34m\u001b[0m\u001b[0m\n\u001b[0;32m----> 6\u001b[0;31m         \u001b[0mdata\u001b[0m \u001b[0;34m=\u001b[0m \u001b[0mnp\u001b[0m\u001b[0;34m.\u001b[0m\u001b[0mload\u001b[0m\u001b[0;34m(\u001b[0m\u001b[0mpath_npy\u001b[0m \u001b[0;34m+\u001b[0m \u001b[0mlabel\u001b[0m\u001b[0;34m)\u001b[0m\u001b[0;34m\u001b[0m\u001b[0m\n\u001b[0m\u001b[1;32m      7\u001b[0m \u001b[0;34m\u001b[0m\u001b[0m\n\u001b[1;32m      8\u001b[0m         \u001b[0mgt\u001b[0m \u001b[0;34m=\u001b[0m \u001b[0mdata\u001b[0m\u001b[0;34m[\u001b[0m\u001b[0;34m:\u001b[0m\u001b[0;34m,\u001b[0m\u001b[0;36m1\u001b[0m\u001b[0;34m]\u001b[0m\u001b[0;34m\u001b[0m\u001b[0m\n",
      "\u001b[0;32m/usr/local/lib/python3.5/dist-packages/numpy/lib/npyio.py\u001b[0m in \u001b[0;36mload\u001b[0;34m(file, mmap_mode, allow_pickle, fix_imports, encoding)\u001b[0m\n\u001b[1;32m    417\u001b[0m             \u001b[0;32melse\u001b[0m\u001b[0;34m:\u001b[0m\u001b[0;34m\u001b[0m\u001b[0m\n\u001b[1;32m    418\u001b[0m                 return format.read_array(fid, allow_pickle=allow_pickle,\n\u001b[0;32m--> 419\u001b[0;31m                                          pickle_kwargs=pickle_kwargs)\n\u001b[0m\u001b[1;32m    420\u001b[0m         \u001b[0;32melse\u001b[0m\u001b[0;34m:\u001b[0m\u001b[0;34m\u001b[0m\u001b[0m\n\u001b[1;32m    421\u001b[0m             \u001b[0;31m# Try a pickle\u001b[0m\u001b[0;34m\u001b[0m\u001b[0;34m\u001b[0m\u001b[0m\n",
      "\u001b[0;32m/usr/local/lib/python3.5/dist-packages/numpy/lib/format.py\u001b[0m in \u001b[0;36mread_array\u001b[0;34m(fp, allow_pickle, pickle_kwargs)\u001b[0m\n\u001b[1;32m    644\u001b[0m                 raise UnicodeError(\"Unpickling a python object failed: %r\\n\"\n\u001b[1;32m    645\u001b[0m                                    \u001b[0;34m\"You may need to pass the encoding= option \"\u001b[0m\u001b[0;34m\u001b[0m\u001b[0m\n\u001b[0;32m--> 646\u001b[0;31m                                    \"to numpy.load\" % (err,))\n\u001b[0m\u001b[1;32m    647\u001b[0m             \u001b[0;32mraise\u001b[0m\u001b[0;34m\u001b[0m\u001b[0m\n\u001b[1;32m    648\u001b[0m     \u001b[0;32melse\u001b[0m\u001b[0;34m:\u001b[0m\u001b[0;34m\u001b[0m\u001b[0m\n",
      "\u001b[0;31mUnicodeError\u001b[0m: Unpickling a python object failed: UnicodeDecodeError('ascii', b'\\x14\\xa8\\x8a\\xbf\\xd7\\x162\\xc0\\xd9\\xdc\\xaf\\xbe\\xeb \\xa6?/(\\x8a\\xbf\\x03\\x187\\xc0\\x87\\t\\x01\\xc0N\\x9c/>\\x1cN A\\xb5\\xf3\\x07@\\xc1\\xaf\\x1d\\xc0', 1, 2, 'ordinal not in range(128)')\nYou may need to pass the encoding= option to numpy.load"
     ]
    }
   ],
   "source": [
    "label_files = listdir(path_npy)\n",
    "label_colors = cv2.imread('camvid11.png').astype(np.uint8)\n",
    "for label in label_files:\n",
    "    if 'npy' in label:\n",
    "        print (path_npy+label)\n",
    "        data = np.load(path_npy + label)\n",
    "        \n",
    "        gt = data[:,1]\n",
    "      \n",
    "        probs = data[:,0]\n",
    "        probs = list(probs)\n",
    "        probs = np.asarray(probs)\n",
    "        out_sm = softmax(probs)\n",
    "        out = vizz(out_sm)\n",
    "        gt_hot = one_hot(gt)\n",
    "        gt_out = vizz(gt_hot)\n",
    "        black_stripe = np.zeros((20, gt_out.shape[1], 3))\n",
    "        final = np.vstack(out, black_stripe)\n",
    "        finall = np.vstack(final, gt_out)\n",
    "        cv2.imwrite(path_npy + label[:-4] + '.png', finall)"
   ]
  },
  {
   "cell_type": "code",
   "execution_count": null,
   "metadata": {},
   "outputs": [],
   "source": []
  }
 ],
 "metadata": {
  "kernelspec": {
   "display_name": "Python 3",
   "language": "python",
   "name": "python3"
  },
  "language_info": {
   "codemirror_mode": {
    "name": "ipython",
    "version": 3
   },
   "file_extension": ".py",
   "mimetype": "text/x-python",
   "name": "python",
   "nbconvert_exporter": "python",
   "pygments_lexer": "ipython3",
   "version": "3.5.2"
  }
 },
 "nbformat": 4,
 "nbformat_minor": 2
}
