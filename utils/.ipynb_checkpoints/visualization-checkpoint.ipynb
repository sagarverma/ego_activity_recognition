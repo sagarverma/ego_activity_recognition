{
 "cells": [
  {
   "cell_type": "code",
   "execution_count": 1,
   "metadata": {},
   "outputs": [],
   "source": [
    "## INPUT =  .npy containing of array of probability values and gound truth label\n",
    "## OUPUT = Comparison of GT and predicted probabilities. \n",
    "\n",
    "import numpy as np\n",
    "import matplotlib.pyplot as plt\n",
    "import cv2\n",
    "from os import listdir\n",
    "import csv\n",
    "import sys\n",
    "path_npy='/media/sagan/Drive1/GTEA/dataset/visualization/npy/seq_11/'"
   ]
  },
  {
   "cell_type": "code",
   "execution_count": 2,
   "metadata": {},
   "outputs": [],
   "source": [
    "def softmax(mat):\n",
    "    \"\"\"Compute softmax values for each sets of scores in x.\"\"\"\n",
    "    out = []\n",
    "    for x in mat:\n",
    "        e_x = np.exp(x - np.max(x))\n",
    "        e_x = e_x / e_x.sum()\n",
    "        out.append(e_x)\n",
    "    \n",
    "    return np.asarray(out)"
   ]
  },
  {
   "cell_type": "code",
   "execution_count": 3,
   "metadata": {},
   "outputs": [],
   "source": [
    "def one_hot(label):\n",
    "    out = np.zeros((label.shape[0], 11))\n",
    "    for i in range(len(label)):\n",
    "        out[i][label[i]] = 1\n",
    "        \n",
    "    return out"
   ]
  },
  {
   "cell_type": "code",
   "execution_count": 4,
   "metadata": {},
   "outputs": [],
   "source": [
    "def one_hot_for_predicted(label):\n",
    "    bb = np.zeros_like(label)\n",
    "    bb[np.arange(len(label)), label.argmax(1)] = 1\n",
    "        \n",
    "    return bb"
   ]
  },
  {
   "cell_type": "code",
   "execution_count": 5,
   "metadata": {},
   "outputs": [],
   "source": [
    "def vizz(mat):\n",
    "    mat = np.transpose(mat, (1,0))\n",
    "    color = []\n",
    "    for i in range(mat.shape[1]):\n",
    "        color.append(label_colors[0][:11])\n",
    "    color = np.asarray(color)\n",
    "    color = np.transpose(color, (1,0,2))\n",
    "\n",
    "    white = np.ones(color.shape) * 255\n",
    "    vector = np.subtract(white, color)\n",
    "    \n",
    "    col = []\n",
    "    for i in range(vector.shape[0]):\n",
    "        row = []\n",
    "        for j in range(vector.shape[1]):\n",
    "            row.append(color[i][j] + vector[i][j] * (1-mat[i][j]))\n",
    "        col.append(row)\n",
    "        \n",
    "    out =  np.asarray(col, dtype=np.uint8)   \n",
    "    out = cv2.resize(out, (573,100), cv2.INTER_MAX)\n",
    "    \n",
    "    return out"
   ]
  },
  {
   "cell_type": "code",
   "execution_count": 32,
   "metadata": {},
   "outputs": [],
   "source": [
    "label_files = listdir(path_npy)\n",
    "label_colors = cv2.imread('camvid11.png').astype(np.uint8)\n",
    "for label in label_files:\n",
    "    if 'npy' in label:\n",
    "        data = np.load(path_npy + label)\n",
    "        gt = data[:,1]\n",
    "        probs = data[:,0]\n",
    "        probs = list(probs)\n",
    "        probs = np.asarray(probs)\n",
    "        out_sm = softmax(probs)\n",
    "        out_sm = one_hot_for_predicted(out_sm)\n",
    "        out = vizz(out_sm)\n",
    "        gt_hot = one_hot(gt)\n",
    "        gt_out = vizz(gt_hot)\n",
    "        black_stripe = np.zeros((5, gt_out.shape[1], 3))\n",
    "        final = np.vstack((out, black_stripe))\n",
    "        finall = np.vstack((black_stripe, final, gt_out, black_stripe))\n",
    "        cv2.imwrite(path_npy + label[:-4] + '.png', finall)"
   ]
  },
  {
   "cell_type": "code",
   "execution_count": 29,
   "metadata": {},
   "outputs": [],
   "source": [
    "out_sm.shape, gt_hot.shape, gt.shape\n"
   ]
  },
  {
   "cell_type": "code",
   "execution_count": 30,
   "metadata": {},
   "outputs": [
    {
     "data": {
      "text/plain": [
       "array([[1., 0., 0., ..., 0., 0., 0.],\n",
       "       [0., 0., 0., ..., 0., 1., 0.],\n",
       "       [0., 0., 0., ..., 0., 1., 0.],\n",
       "       ...,\n",
       "       [0., 0., 0., ..., 0., 0., 0.],\n",
       "       [0., 0., 0., ..., 0., 0., 0.],\n",
       "       [1., 0., 0., ..., 0., 0., 0.]])"
      ]
     },
     "execution_count": 30,
     "metadata": {},
     "output_type": "execute_result"
    }
   ],
   "source": [
    "titi\n"
   ]
  },
  {
   "cell_type": "code",
   "execution_count": null,
   "metadata": {},
   "outputs": [],
   "source": []
  }
 ],
 "metadata": {
  "kernelspec": {
   "display_name": "Python 2",
   "language": "python",
   "name": "python2"
  },
  "language_info": {
   "codemirror_mode": {
    "name": "ipython",
    "version": 2
   },
   "file_extension": ".py",
   "mimetype": "text/x-python",
   "name": "python",
   "nbconvert_exporter": "python",
   "pygments_lexer": "ipython2",
   "version": "2.7.12"
  }
 },
 "nbformat": 4,
 "nbformat_minor": 2
}
